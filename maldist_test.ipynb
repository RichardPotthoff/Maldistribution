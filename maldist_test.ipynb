{
 "cells": [
  {
   "cell_type": "code",
   "execution_count": 1,
   "metadata": {},
   "outputs": [
    {
     "name": "stdout",
     "output_type": "stream",
     "text": [
      "Ideal number of points:628.004 \n",
      "                Actual:628\n",
      "execution time for \"flowdistribution\": 1.097s, \"ideal_distribution\": 0.013s\n",
      "average flow:0.9999861330584638, sampled Diameter:1.999500001999972, total flow:3.139978517391739\n",
      "execution time for \"flowdistribution\": 1.024s, \"ideal_distribution\": 0.013s\n",
      "average flow:0.9989687559146263, sampled Diameter:1.9745000019999799, total flow:3.058835090366767\n",
      "execution time for \"flowdistribution\": 1.068s, \"ideal_distribution\": 0.012s\n",
      "average flow:1.0009909128228853, sampled Diameter:2.0245000019999746, total flow:3.22222289640155\n"
     ]
    },
    {
     "data": {
      "text/plain": [
       "<Figure size 827.654x1170.48 with 12 Axes>"
      ]
     },
     "metadata": {},
     "output_type": "display_data"
    },
    {
     "name": "stdout",
     "output_type": "stream",
     "text": [
      "execution time for \"flowdistribution\": 1.098s, \"ideal_distribution\": 0.013s\n",
      "average flow:0.9999856343800393, sampled Diameter:1.9995000019999727, total flow:3.1399769515304867\n",
      "execution time for \"flowdistribution\": 1.000s, \"ideal_distribution\": 0.012s\n",
      "average flow:0.998980437845032, sampled Diameter:1.974500001999979, total flow:3.0588708603529993\n",
      "execution time for \"flowdistribution\": 1.071s, \"ideal_distribution\": 0.013s\n",
      "average flow:1.0009789623837566, sampled Diameter:2.0245000019999746, total flow:3.2221844275422544\n"
     ]
    },
    {
     "data": {
      "text/plain": [
       "<Figure size 827.654x1170.48 with 12 Axes>"
      ]
     },
     "metadata": {},
     "output_type": "display_data"
    },
    {
     "name": "stdout",
     "output_type": "stream",
     "text": [
      "execution time for \"flowdistribution\": 1.063s, \"ideal_distribution\": 0.012s\n",
      "average flow:0.9999861330584638, sampled Diameter:1.999500001999972, total flow:3.139978517391739\n",
      "execution time for \"flowdistribution\": 1.017s, \"ideal_distribution\": 0.012s\n",
      "average flow:0.9989687559146263, sampled Diameter:1.9745000019999799, total flow:3.058835090366767\n",
      "execution time for \"flowdistribution\": 1.368s, \"ideal_distribution\": 0.014s\n",
      "average flow:1.0009909128228853, sampled Diameter:2.0245000019999746, total flow:3.22222289640155\n"
     ]
    },
    {
     "data": {
      "text/plain": [
       "<Figure size 827.654x1170.48 with 12 Axes>"
      ]
     },
     "metadata": {},
     "output_type": "display_data"
    },
    {
     "name": "stdout",
     "output_type": "stream",
     "text": [
      "execution time for \"flowdistribution\": 1.098s, \"ideal_distribution\": 0.013s\n",
      "average flow:0.9999856343800393, sampled Diameter:1.9995000019999727, total flow:3.1399769515304867\n",
      "execution time for \"flowdistribution\": 1.026s, \"ideal_distribution\": 0.012s\n",
      "average flow:0.998980437845032, sampled Diameter:1.974500001999979, total flow:3.0588708603529993\n",
      "execution time for \"flowdistribution\": 1.090s, \"ideal_distribution\": 0.012s\n",
      "average flow:1.0009789623837566, sampled Diameter:2.0245000019999746, total flow:3.2221844275422544\n"
     ]
    },
    {
     "data": {
      "text/plain": [
       "<Figure size 827.654x1170.48 with 12 Axes>"
      ]
     },
     "metadata": {},
     "output_type": "display_data"
    }
   ],
   "source": [
    "run maldist"
   ]
  }
 ],
 "metadata": {
  "kernelspec": {
   "display_name": "Python 3",
   "language": "python",
   "name": "python3"
  },
  "language_info": {
   "codemirror_mode": {
    "name": "ipython",
    "version": 3
   },
   "file_extension": ".py",
   "mimetype": "text/x-python",
   "name": "python",
   "nbconvert_exporter": "python",
   "pygments_lexer": "ipython3",
   "version": "3.7.1"
  },
  "toc": {
   "base_numbering": 1,
   "nav_menu": {},
   "number_sections": true,
   "sideBar": true,
   "skip_h1_title": false,
   "title_cell": "Table of Contents",
   "title_sidebar": "Contents",
   "toc_cell": false,
   "toc_position": {},
   "toc_section_display": true,
   "toc_window_display": false
  }
 },
 "nbformat": 4,
 "nbformat_minor": 2
}
